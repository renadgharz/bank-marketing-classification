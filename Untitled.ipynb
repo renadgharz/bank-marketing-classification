{
 "cells": [
  {
   "cell_type": "markdown",
   "id": "4e9a4518",
   "metadata": {},
   "source": [
    "# Preprocessing and feature engineering"
   ]
  },
  {
   "cell_type": "markdown",
   "id": "8e5743e9",
   "metadata": {},
   "source": [
    "**Importing Libraries**"
   ]
  },
  {
   "cell_type": "code",
   "execution_count": 30,
   "id": "80efe5b9",
   "metadata": {},
   "outputs": [],
   "source": [
    "import pandas as pd"
   ]
  },
  {
   "cell_type": "markdown",
   "id": "59c3025e",
   "metadata": {},
   "source": [
    "**Importing dataset**"
   ]
  },
  {
   "cell_type": "code",
   "execution_count": 31,
   "id": "f506ba0f",
   "metadata": {},
   "outputs": [],
   "source": [
    "data = pd.read_csv(\"bank-additional-full.csv\", sep=\";\")"
   ]
  },
  {
   "cell_type": "code",
   "execution_count": null,
   "id": "bc3837b6",
   "metadata": {
    "scrolled": false
   },
   "outputs": [],
   "source": [
    "print(data.head(pd.set_option(\"display.max_columns\", None)))"
   ]
  },
  {
   "cell_type": "markdown",
   "id": "0e41c27f",
   "metadata": {},
   "source": [
    "## Binning age feature"
   ]
  },
  {
   "cell_type": "code",
   "execution_count": null,
   "id": "23a11d3f",
   "metadata": {},
   "outputs": [],
   "source": [
    "print(data['age'].describe())"
   ]
  },
  {
   "cell_type": "code",
   "execution_count": 32,
   "id": "7334d8cc",
   "metadata": {},
   "outputs": [],
   "source": [
    "data['age_groups'] = pd.cut(data['age'],\n",
    "                            [10,20,30,40,50,60,70,80,90,100])"
   ]
  },
  {
   "cell_type": "code",
   "execution_count": null,
   "id": "526ff4f3",
   "metadata": {},
   "outputs": [],
   "source": [
    "print(data['age_groups'])"
   ]
  },
  {
   "cell_type": "markdown",
   "id": "9391e17c",
   "metadata": {},
   "source": [
    "## Modifying education feature"
   ]
  },
  {
   "cell_type": "code",
   "execution_count": 34,
   "id": "1fe0db0a",
   "metadata": {},
   "outputs": [
    {
     "name": "stdout",
     "output_type": "stream",
     "text": [
      "['basic' 'high.school' 'professional.course' 'unknown' 'university.degree'\n",
      " 'illiterate']\n"
     ]
    }
   ],
   "source": [
    "print(data['education'].unique())\n",
    "data['education'] = data['education'].replace(\n",
    "    to_replace=['basic.4y','basic.6y','basic.9y'], value = 'basic')\n",
    "print(data['education'].unique())"
   ]
  },
  {
   "cell_type": "markdown",
   "id": "2a5ccae2",
   "metadata": {},
   "source": [
    "## Dropping duration feature"
   ]
  },
  {
   "cell_type": "code",
   "execution_count": null,
   "id": "73fb8edb",
   "metadata": {},
   "outputs": [],
   "source": [
    "data.drop('duration', axis=1, inplace=True)\n",
    "print(data)"
   ]
  }
 ],
 "metadata": {
  "celltoolbar": "Raw Cell Format",
  "kernelspec": {
   "display_name": "Python 3 (ipykernel)",
   "language": "python",
   "name": "python3"
  },
  "language_info": {
   "codemirror_mode": {
    "name": "ipython",
    "version": 3
   },
   "file_extension": ".py",
   "mimetype": "text/x-python",
   "name": "python",
   "nbconvert_exporter": "python",
   "pygments_lexer": "ipython3",
   "version": "3.9.13"
  }
 },
 "nbformat": 4,
 "nbformat_minor": 5
}
