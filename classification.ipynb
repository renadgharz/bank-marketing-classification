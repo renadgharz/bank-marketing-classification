{
 "cells": [
  {
   "cell_type": "markdown",
   "id": "ad11bf01",
   "metadata": {},
   "source": [
    "## Importing libraries"
   ]
  },
  {
   "cell_type": "code",
   "execution_count": 1,
   "id": "94cad54b",
   "metadata": {},
   "outputs": [
    {
     "name": "stdout",
     "output_type": "stream",
     "text": [
      "importing Jupyter notebook from preprocessing.ipynb\n"
     ]
    }
   ],
   "source": [
    "import import_ipynb\n",
    "\n",
    "from preprocessing import *\n",
    "\n",
    "from sklearn.model_selection import train_test_split\n",
    "from sklearn.pipeline import make_pipeline\n",
    "from sklearn.preprocessing import StandardScaler\n",
    "from sklearn.tree import DecisionTreeClassifier\n",
    "from sklearn.neighbors import KNeighborsClassifier\n",
    "from sklearn.linear_model import LogisticRegression\n",
    "from sklearn.gaussian_process import GaussianProcessClassifier\n",
    "from sklearn.ensemble import RandomForestClassifier\n",
    "from sklearn.neural_network import MLPClassifier"
   ]
  },
  {
   "cell_type": "markdown",
   "id": "eaf69276",
   "metadata": {},
   "source": [
    "## Creating classifiers and setting parameters"
   ]
  },
  {
   "cell_type": "code",
   "execution_count": 2,
   "id": "08e8ad18",
   "metadata": {},
   "outputs": [],
   "source": [
    "names = [\n",
    "    \"decision_tree\",\n",
    "    \"k_nearest_neighbours\",\n",
    "    \"log_regression\",\n",
    "    \"gaussian_process\",\n",
    "    \"random_forest\",\n",
    "    \"mlp_neural_network\"\n",
    "]\n",
    "\n",
    "classifiers = [\n",
    "    DecisionTreeClassifier(criterion = \"gini\",\n",
    "                           splitter = \"best\",\n",
    "                           max_depth = 10),\n",
    "    KNeighborsClassifier(n_neighbors = 7,\n",
    "                         algorithm = \"auto\",\n",
    "                         p = 1,\n",
    "                         n_jobs = -1),\n",
    "    LogisticRegression(max_iter = 250,\n",
    "                       multi_class = \"multinomial\",\n",
    "                       n_jobs = -1),\n",
    "    GaussianProcessClassifier(max_iter_predict = 250,\n",
    "                              multi_class = \"one_vs_rest\",\n",
    "                              n_jobs = -1),\n",
    "    RandomForestClassifier(n_estimators = 250,\n",
    "                           criterion = \"gini\",\n",
    "                           max_depth = 10,\n",
    "                           n_jobs = -1),\n",
    "    MLPClassifier(solver = \"sgd\", \n",
    "                  activation = \"relu\",\n",
    "                  learning_rate = \"adaptive\",\n",
    "                  max_iter = 250),\n",
    "]"
   ]
  },
  {
   "cell_type": "markdown",
   "id": "66c25d9a",
   "metadata": {},
   "source": [
    "## Splitting dataset into training and test sets"
   ]
  },
  {
   "cell_type": "code",
   "execution_count": 3,
   "id": "a384551f",
   "metadata": {},
   "outputs": [],
   "source": [
    "X = dataset.loc[:, dataset.columns != 'y']\n",
    "y = dataset['y']\n",
    "\n",
    "X_train, X_test, y_train, y_test = train_test_split(X, y, \n",
    "                                                    test_size = 0.2,\n",
    "                                                    random_state = 0)"
   ]
  },
  {
   "cell_type": "markdown",
   "id": "16c305af",
   "metadata": {},
   "source": [
    "## Creating pipelines for each classifier"
   ]
  },
  {
   "cell_type": "code",
   "execution_count": 6,
   "id": "8a5fbb12",
   "metadata": {},
   "outputs": [],
   "source": [
    "for name, clf in zip(names, classifiers):\n",
    "    clf = make_pipeline(StandardScaler(), clf)\n",
    "    clf.fit(X_train, y_train)\n",
    "    \n",
    "    score = clf.score(X_test, y_test)"
   ]
  }
 ],
 "metadata": {
  "kernelspec": {
   "display_name": "Python 3 (ipykernel)",
   "language": "python",
   "name": "python3"
  },
  "language_info": {
   "codemirror_mode": {
    "name": "ipython",
    "version": 3
   },
   "file_extension": ".py",
   "mimetype": "text/x-python",
   "name": "python",
   "nbconvert_exporter": "python",
   "pygments_lexer": "ipython3",
   "version": "3.9.13"
  }
 },
 "nbformat": 4,
 "nbformat_minor": 5
}
