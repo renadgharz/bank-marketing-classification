{
 "cells": [
  {
   "cell_type": "markdown",
   "id": "ad11bf01",
   "metadata": {},
   "source": [
    "## Importing libraries"
   ]
  },
  {
   "cell_type": "code",
   "execution_count": 14,
   "id": "94cad54b",
   "metadata": {},
   "outputs": [],
   "source": [
    "import import_ipynb\n",
    "\n",
    "from preprocessing import *\n",
    "\n",
    "import matplotlib as plt\n",
    "\n",
    "from sklearn.model_selection import train_test_split\n",
    "from sklearn.pipeline import make_pipeline\n",
    "from sklearn.preprocessing import StandardScaler\n",
    "from sklearn.metrics import ConfusionMatrixDisplay, auc\n",
    "from sklearn.tree import DecisionTreeClassifier\n",
    "from sklearn.neighbors import KNeighborsClassifier\n",
    "from sklearn.linear_model import LogisticRegression\n",
    "from sklearn.ensemble import RandomForestClassifier\n",
    "from sklearn.neural_network import MLPClassifier\n",
    "\n",
    "from imblearn.over_sampling import SMOTE"
   ]
  },
  {
   "cell_type": "markdown",
   "id": "eaf69276",
   "metadata": {},
   "source": [
    "## Creating classifiers and setting parameters"
   ]
  },
  {
   "cell_type": "code",
   "execution_count": 12,
   "id": "08e8ad18",
   "metadata": {},
   "outputs": [],
   "source": [
    "names = [\n",
    "    \"decision_tree\",\n",
    "    \"k_nearest_neighbours\",\n",
    "    \"log_regression\",\n",
    "    \"random_forest\",\n",
    "    \"mlp_neural_network\"\n",
    "]\n",
    "\n",
    "classifiers = [\n",
    "    DecisionTreeClassifier(criterion = \"gini\",\n",
    "                           splitter = \"best\",\n",
    "                           max_depth = 10),\n",
    "    KNeighborsClassifier(n_neighbors = 7,\n",
    "                         algorithm = \"auto\",\n",
    "                         p = 1,\n",
    "                         n_jobs = -1),\n",
    "    LogisticRegression(max_iter = 250,\n",
    "                       multi_class = \"multinomial\",\n",
    "                       n_jobs = -1),\n",
    "    RandomForestClassifier(n_estimators = 250,\n",
    "                           criterion = \"gini\",\n",
    "                           max_depth = 10,\n",
    "                           n_jobs = -1),\n",
    "    MLPClassifier(solver = \"sgd\", \n",
    "                  activation = \"relu\",\n",
    "                  learning_rate = \"adaptive\",\n",
    "                  max_iter = 300)\n",
    "]"
   ]
  },
  {
   "cell_type": "markdown",
   "id": "66c25d9a",
   "metadata": {},
   "source": [
    "## Splitting dataset into training and test sets"
   ]
  },
  {
   "cell_type": "code",
   "execution_count": 10,
   "id": "a384551f",
   "metadata": {},
   "outputs": [],
   "source": [
    "X = dataset.loc[:, dataset.columns != 'y']\n",
    "y = dataset['y']\n",
    "\n",
    "X_train, X_test, y_train, y_test = train_test_split(X, y, \n",
    "                                                    test_size = 0.2,\n",
    "                                                    random_state = 0)\n",
    "\n",
    "smote = SMOTE(random_state = 0)\n",
    "X_train, y_train = smote.fit_resample(X_train, y_train)"
   ]
  },
  {
   "cell_type": "markdown",
   "id": "16c305af",
   "metadata": {},
   "source": [
    "## Pipelines and accuracy for each classifier"
   ]
  },
  {
   "cell_type": "code",
   "execution_count": 13,
   "id": "8a5fbb12",
   "metadata": {},
   "outputs": [
    {
     "ename": "NameError",
     "evalue": "name 'auc' is not defined",
     "output_type": "error",
     "traceback": [
      "\u001b[1;31m---------------------------------------------------------------------------\u001b[0m",
      "\u001b[1;31mNameError\u001b[0m                                 Traceback (most recent call last)",
      "Cell \u001b[1;32mIn[13], line 10\u001b[0m\n\u001b[0;32m      3\u001b[0m clf\u001b[38;5;241m.\u001b[39mfit(X_train, y_train)\n\u001b[0;32m      5\u001b[0m accuracy \u001b[38;5;241m=\u001b[39m ConfusionMatrixDisplay\u001b[38;5;241m.\u001b[39mfrom_estimator(clf,\n\u001b[0;32m      6\u001b[0m                                                  X_test,\n\u001b[0;32m      7\u001b[0m                                                  y_test,\n\u001b[0;32m      8\u001b[0m                                                  normalize \u001b[38;5;241m=\u001b[39m \u001b[38;5;124m'\u001b[39m\u001b[38;5;124mtrue\u001b[39m\u001b[38;5;124m'\u001b[39m)\n\u001b[1;32m---> 10\u001b[0m auc \u001b[38;5;241m=\u001b[39m \u001b[43mauc\u001b[49m(clf)\n\u001b[0;32m     12\u001b[0m accuracy\u001b[38;5;241m.\u001b[39max_\u001b[38;5;241m.\u001b[39mset_title(name)\n\u001b[0;32m     13\u001b[0m \u001b[38;5;28mprint\u001b[39m(name)\n",
      "\u001b[1;31mNameError\u001b[0m: name 'auc' is not defined"
     ]
    },
    {
     "data": {
      "image/png": "[encoded data removed]",
      "text/plain": [
       "<Figure size 640x480 with 2 Axes>"
      ]
     },
     "metadata": {},
     "output_type": "display_data"
    }
   ],
   "source": [
    "for name, clf in zip(names, classifiers):\n",
    "    clf = make_pipeline(StandardScaler(), clf)\n",
    "    clf.fit(X_train, y_train)\n",
    "    \n",
    "    accuracy = ConfusionMatrixDisplay.from_estimator(clf,\n",
    "                                                     X_test,\n",
    "                                                     y_test,\n",
    "                                                     normalize = 'true')\n",
    "\n",
    "    auc = auc(clf)\n",
    "    \n",
    "    accuracy.ax_.set_title(name)\n",
    "    print(name)\n",
    "    print(accuracy.confusion_matrix)\n",
    "    print(auc)\n",
    "\n",
    "plt.show()"
   ]
  }
 ],
 "metadata": {
  "kernelspec": {
   "display_name": "Python 3 (ipykernel)",
   "language": "python",
   "name": "python3"
  },
  "language_info": {
   "codemirror_mode": {
    "name": "ipython",
    "version": 3
   },
   "file_extension": ".py",
   "mimetype": "text/x-python",
   "name": "python",
   "nbconvert_exporter": "python",
   "pygments_lexer": "ipython3",
   "version": "3.9.13"
  }
 },
 "nbformat": 4,
 "nbformat_minor": 5
}
